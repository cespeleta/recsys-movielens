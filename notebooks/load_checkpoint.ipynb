{
 "cells": [
  {
   "cell_type": "code",
   "execution_count": 1,
   "metadata": {},
   "outputs": [],
   "source": [
    "%load_ext autoreload\n",
    "%autoreload 2\n",
    "\n",
    "import torch\n",
    "from torchmetrics import MeanSquaredError\n",
    "import numpy as np\n",
    "import pandas as pd\n",
    "from dynaconf import Dynaconf\n",
    "import lightning as L\n",
    "\n",
    "from src.models.mf_with_bias import MatrixFactorizationWithBias\n",
    "from src.lit_models.base import LightningModel\n",
    "\n",
    "from src.datasets.movielens import MovielensDataModule"
   ]
  },
  {
   "attachments": {},
   "cell_type": "markdown",
   "metadata": {},
   "source": [
    "## Load config with dynaconf"
   ]
  },
  {
   "cell_type": "code",
   "execution_count": 3,
   "metadata": {},
   "outputs": [],
   "source": [
    "cfg = Dynaconf(root_path=\"configs\", settings_files=[\"config_mf.yaml\"])"
   ]
  },
  {
   "attachments": {},
   "cell_type": "markdown",
   "metadata": {},
   "source": [
    "Load model inputs from the config file"
   ]
  },
  {
   "cell_type": "code",
   "execution_count": 4,
   "metadata": {},
   "outputs": [
    {
     "name": "stdout",
     "output_type": "stream",
     "text": [
      "n_users=943, n_items=1625, n_factors=128\n"
     ]
    }
   ],
   "source": [
    "n_users = cfg.model.pytorch_model.init_args.n_users\n",
    "n_items = cfg.model.pytorch_model.init_args.n_items\n",
    "n_factors = cfg.model.pytorch_model.init_args.n_factors\n",
    "print(f\"{n_users=}, {n_items=}, {n_factors=}\")"
   ]
  },
  {
   "attachments": {},
   "cell_type": "markdown",
   "metadata": {},
   "source": [
    "## Load model"
   ]
  },
  {
   "cell_type": "code",
   "execution_count": 5,
   "metadata": {},
   "outputs": [
    {
     "data": {
      "text/plain": [
       "MatrixFactorizationWithBias(\n",
       "  (user_emb): Embedding(943, 128)\n",
       "  (user_bias): Embedding(943, 1)\n",
       "  (item_emb): Embedding(1625, 128)\n",
       "  (item_bias): Embedding(1625, 1)\n",
       ")"
      ]
     },
     "execution_count": 5,
     "metadata": {},
     "output_type": "execute_result"
    }
   ],
   "source": [
    "pytorch_model = MatrixFactorizationWithBias(n_users, n_items, n_factors)\n",
    "pytorch_model"
   ]
  },
  {
   "cell_type": "code",
   "execution_count": 63,
   "metadata": {},
   "outputs": [],
   "source": [
    "checkpoint_file = \"lightning_logs/embedding_dim/version_1/checkpoints/epoch=17-step=342.ckpt\"\n",
    "\n",
    "# load weights\n",
    "model = LightningModel.load_from_checkpoint(\n",
    "    checkpoint_path=checkpoint_file, pytorch_model=pytorch_model\n",
    ")"
   ]
  },
  {
   "cell_type": "code",
   "execution_count": 8,
   "metadata": {},
   "outputs": [
    {
     "name": "stdout",
     "output_type": "stream",
     "text": [
      "cpu\n"
     ]
    }
   ],
   "source": [
    "device = model.device\n",
    "print(device)"
   ]
  },
  {
   "cell_type": "code",
   "execution_count": 9,
   "metadata": {},
   "outputs": [],
   "source": [
    "dm = MovielensDataModule(dataset=\"ml-100k\", target=\"rating\", batch_size=32)\n",
    "dm.setup(stage=\"test\")"
   ]
  },
  {
   "attachments": {},
   "cell_type": "markdown",
   "metadata": {},
   "source": [
    "## Predict on new data\n",
    "\n",
    "Here we are going to use test set as a new data but, of course, we could use any new dataset."
   ]
  },
  {
   "cell_type": "code",
   "execution_count": 10,
   "metadata": {},
   "outputs": [],
   "source": [
    "test_dataloader = dm.test_dataloader()"
   ]
  },
  {
   "cell_type": "code",
   "execution_count": 54,
   "metadata": {},
   "outputs": [],
   "source": [
    "# Get first batch of data\n",
    "for batch_data in test_dataloader:\n",
    "    users = batch_data[\"user\"].to(device)\n",
    "    items = batch_data[\"item\"].to(device)\n",
    "    ratings = batch_data[\"rating\"].to(device)\n",
    "    break"
   ]
  },
  {
   "attachments": {},
   "cell_type": "markdown",
   "metadata": {},
   "source": [
    "### Pytorch\n",
    "\n",
    "We can make our predictions with plain Pytorch our using the Lighning Trainer.\n",
    "\n",
    "Docs: https://lightning.ai/docs/pytorch/stable/deploy/production_intermediate.html"
   ]
  },
  {
   "cell_type": "code",
   "execution_count": 71,
   "metadata": {},
   "outputs": [
    {
     "data": {
      "text/plain": [
       "tensor([0.7605, 3.5300, 3.1920, 2.3851, 3.3966, 3.8786, 4.0043, 3.4172, 3.5833,\n",
       "        1.6338, 3.8016, 2.5370, 2.3879, 3.8643, 3.3164, 3.4744, 3.5799, 2.3226,\n",
       "        4.4144, 4.5998, 2.6984, 3.0930, 1.8979, 3.6119, 4.4471, 2.4540, 1.4081,\n",
       "        3.8106, 2.0992, 2.9655, 2.4065, 3.1433])"
      ]
     },
     "execution_count": 71,
     "metadata": {},
     "output_type": "execute_result"
    }
   ],
   "source": [
    "with torch.inference_mode():\n",
    "    y_hat = model(users, items)  #* (5.5 - 1) + 1\n",
    "\n",
    "y_hat"
   ]
  },
  {
   "attachments": {},
   "cell_type": "markdown",
   "metadata": {},
   "source": [
    "Which is equivalent to call the `forward` of the pytorch model directly "
   ]
  },
  {
   "cell_type": "code",
   "execution_count": 72,
   "metadata": {},
   "outputs": [
    {
     "name": "stdout",
     "output_type": "stream",
     "text": [
      "tensor([0.7605, 3.5300, 3.1920, 2.3851, 3.3966, 3.8786, 4.0043, 3.4172, 3.5833,\n",
      "        1.6338, 3.8016, 2.5370, 2.3879, 3.8643, 3.3164, 3.4744, 3.5799, 2.3226,\n",
      "        4.4144, 4.5998, 2.6984, 3.0930, 1.8979, 3.6119, 4.4471, 2.4540, 1.4081,\n",
      "        3.8106, 2.0992, 2.9655, 2.4065, 3.1433])\n"
     ]
    }
   ],
   "source": [
    "with torch.inference_mode():\n",
    "    print(model.pytorch_model(users, items))"
   ]
  },
  {
   "cell_type": "code",
   "execution_count": 73,
   "metadata": {},
   "outputs": [],
   "source": [
    "# mse = MeanSquaredError().to(device)\n",
    "# pred_list = []\n",
    "# for batch_data in test_dataloader:\n",
    "#     users = batch_data[\"user\"].to(device)\n",
    "#     items = batch_data[\"item\"].to(device)\n",
    "#     ratings = batch_data[\"rating\"].to(device)\n",
    "#     with torch.inference_mode():\n",
    "#         y_hat = model.predict_step(batch_data) * (5.5 - 1) + 1\n",
    "#         pred_list.append(y_hat.cpu().detach().numpy().squeeze())\n",
    "    \n",
    "#     mse(y_hat, ratings)"
   ]
  },
  {
   "attachments": {},
   "cell_type": "markdown",
   "metadata": {},
   "source": [
    "### Using Lightning Trainer"
   ]
  },
  {
   "cell_type": "code",
   "execution_count": 74,
   "metadata": {},
   "outputs": [
    {
     "name": "stderr",
     "output_type": "stream",
     "text": [
      "GPU available: True (mps), used: True\n",
      "TPU available: False, using: 0 TPU cores\n",
      "IPU available: False, using: 0 IPUs\n",
      "HPU available: False, using: 0 HPUs\n"
     ]
    },
    {
     "name": "stdout",
     "output_type": "stream",
     "text": [
      "Predicting DataLoader 0: 100%|██████████| 780/780 [00:01<00:00, 400.53it/s]\n"
     ]
    }
   ],
   "source": [
    "trainer = L.Trainer(enable_checkpointing=False)\n",
    "batched_predictions = trainer.predict(model, dataloaders=[test_dataloader])"
   ]
  },
  {
   "attachments": {},
   "cell_type": "markdown",
   "metadata": {},
   "source": [
    "For comparison, show first batch fo predictions. Why are they different from the pure pytorch predictions? That's because in the LightningModule predictions are transformed using `Sigmoid` to normalize the oputpus."
   ]
  },
  {
   "cell_type": "code",
   "execution_count": 76,
   "metadata": {},
   "outputs": [
    {
     "data": {
      "text/plain": [
       "tensor([0.6815, 0.9715, 0.9605, 0.9157, 0.9676, 0.9797, 0.9821, 0.9682, 0.9730,\n",
       "        0.8367, 0.9782, 0.9267, 0.9159, 0.9795, 0.9650, 0.9700, 0.9729, 0.9107,\n",
       "        0.9880, 0.9900, 0.9369, 0.9566, 0.8697, 0.9737, 0.9884, 0.9209, 0.8035,\n",
       "        0.9783, 0.8908, 0.9510, 0.9173, 0.9586])"
      ]
     },
     "execution_count": 76,
     "metadata": {},
     "output_type": "execute_result"
    }
   ],
   "source": [
    "batched_predictions[0]"
   ]
  },
  {
   "attachments": {},
   "cell_type": "markdown",
   "metadata": {},
   "source": [
    "Concatenate all predictions in a single vector"
   ]
  },
  {
   "cell_type": "code",
   "execution_count": 77,
   "metadata": {},
   "outputs": [
    {
     "data": {
      "text/plain": [
       "tensor([0.6815, 0.9715, 0.9605,  ..., 0.9372, 0.9797, 0.9481])"
      ]
     },
     "execution_count": 77,
     "metadata": {},
     "output_type": "execute_result"
    }
   ],
   "source": [
    "predictions = torch.cat(batched_predictions)\n",
    "predictions"
   ]
  },
  {
   "attachments": {},
   "cell_type": "markdown",
   "metadata": {},
   "source": [
    "Get true ratings"
   ]
  },
  {
   "cell_type": "code",
   "execution_count": 78,
   "metadata": {},
   "outputs": [
    {
     "data": {
      "text/plain": [
       "tensor([1., 2., 4.,  ..., 4., 5., 3.])"
      ]
     },
     "execution_count": 78,
     "metadata": {},
     "output_type": "execute_result"
    }
   ],
   "source": [
    "ratings = torch.cat([batch_data[\"rating\"] for batch_data in test_dataloader], dim=0)\n",
    "ratings"
   ]
  },
  {
   "cell_type": "code",
   "execution_count": 81,
   "metadata": {},
   "outputs": [],
   "source": [
    "def scale_predictions(x, range=(1, 5.5)):\n",
    "    min_y, max_y = range\n",
    "    return x * (max_y - min_y) + min_y"
   ]
  },
  {
   "cell_type": "code",
   "execution_count": 82,
   "metadata": {},
   "outputs": [
    {
     "name": "stdout",
     "output_type": "stream",
     "text": [
      "Test MSE: 4.0108\n",
      "Test RMSE: 1.415\n"
     ]
    }
   ],
   "source": [
    "mse = MeanSquaredError()\n",
    "rmse = MeanSquaredError(squared=False)\n",
    "\n",
    "test_mse = mse(scale_predictions(predictions), ratings)\n",
    "test_rmse = rmse(scale_predictions(predictions), ratings)\n",
    "\n",
    "print(f\"Test MSE: {test_mse:.4f}\")\n",
    "print(f\"Test RMSE: {torch.sqrt(test_rmse):.3f}\")"
   ]
  },
  {
   "cell_type": "code",
   "execution_count": 84,
   "metadata": {},
   "outputs": [
    {
     "name": "stdout",
     "output_type": "stream",
     "text": [
      "Test MSE: 4.0108\n",
      "Test RMSE: 2.003\n"
     ]
    }
   ],
   "source": [
    "test_mae = mse.compute()\n",
    "print(f\"Test MSE: {test_mse:.4f}\")\n",
    "print(f\"Test RMSE: {torch.sqrt(test_mse):.3f}\")"
   ]
  }
 ],
 "metadata": {
  "kernelspec": {
   "display_name": ".venv",
   "language": "python",
   "name": "python3"
  },
  "language_info": {
   "codemirror_mode": {
    "name": "ipython",
    "version": 3
   },
   "file_extension": ".py",
   "mimetype": "text/x-python",
   "name": "python",
   "nbconvert_exporter": "python",
   "pygments_lexer": "ipython3",
   "version": "3.11.2"
  },
  "orig_nbformat": 4
 },
 "nbformat": 4,
 "nbformat_minor": 2
}
